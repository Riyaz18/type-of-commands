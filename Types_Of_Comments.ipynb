{
  "nbformat": 4,
  "nbformat_minor": 0,
  "metadata": {
    "colab": {
      "provenance": []
    },
    "kernelspec": {
      "name": "python3",
      "display_name": "Python 3"
    },
    "language_info": {
      "name": "python"
    }
  },
  "cells": [
    {
      "cell_type": "code",
      "source": [
        "# Importing the libraries\n",
        "import pandas as pd\n",
        "import numpy as np\n",
        "import re\n",
        "import nltk\n",
        "from nltk.corpus import stopwords\n",
        "from nltk.stem import WordNetLemmatizer\n",
        "from sklearn.feature_extraction.text import TfidfVectorizer\n",
        "from sklearn.cluster import KMeans\n",
        "\n"
      ],
      "metadata": {
        "id": "mKdpM3Cl99iW"
      },
      "execution_count": 25,
      "outputs": []
    },
    {
      "cell_type": "code",
      "source": [
        "# Downloading the NLTK resources\n",
        "nltk.download('punkt')\n",
        "nltk.download('stopwords')\n",
        "nltk.download('wordnet')\n",
        "\n"
      ],
      "metadata": {
        "id": "Nt-0W4C4Kxuv"
      },
      "execution_count": null,
      "outputs": []
    },
    {
      "cell_type": "code",
      "source": [
        "# Loading the dataset\n",
        "data = pd.read_csv('comments.csv')\n",
        "\n",
        "# Exploring the dataset\n",
        "data.head()\n",
        "\n",
        "# Cleaning the comments\n",
        "corpus = []\n",
        "for i in range(0, len(data)):\n",
        "    review = re.sub('[^a-zA-Z]', ' ', str(data['comment'][i]))\n",
        "    review = review.lower()\n",
        "    review = review.split()\n",
        "    lemmatizer = WordNetLemmatizer()\n",
        "    review = [lemmatizer.lemmatize(word) for word in review if not word in set(stopwords.words('english'))]\n",
        "    review = ' '.join(review)\n",
        "    corpus.append(review)\n",
        "\n",
        "# Adding the cleaned comments to the DataFrame\n",
        "data['Cleaned Comment'] = corpus\n",
        "\n",
        "# Creating the feature variable\n",
        "tfidf = TfidfVectorizer()\n",
        "X = tfidf.fit_transform(corpus).toarray()\n",
        "\n",
        "# Applying the KMeans algorithm\n",
        "kmeans = KMeans(n_clusters=3, init='k-means++', random_state=42)\n",
        "y_kmeans = kmeans.fit_predict(X)\n",
        "\n",
        "# Adding the cluster labels to the DataFrame\n",
        "data['Cluster'] = y_kmeans\n",
        "\n",
        "# Printing the types of comments identified by KMeans\n",
        "for i in range(0, 3):\n",
        "    print('Type of Comment', i, ':')\n",
        "    print(data[data['Cluster'] == i]['comment'].head(), '\\n')\n"
      ],
      "metadata": {
        "colab": {
          "base_uri": "https://localhost:8080/"
        },
        "id": "xZqfhZ4rK7F-",
        "outputId": "f7280a49-48e1-4ed3-c498-0490a5bd90a8"
      },
      "execution_count": 27,
      "outputs": [
        {
          "output_type": "stream",
          "name": "stdout",
          "text": [
            "Type of Comment 0 :\n",
            "9     ... done well by me appear to have a good shel...\n",
            "13    ... got em so I can't really comment on how go...\n",
            "28    ... THEM BUT HOPEFULLY ALL OF THEM WILL REMAIN...\n",
            "43      1st purchase was good, this time they are junk!\n",
            "65                                      A 'GREAT' Value\n",
            "Name: comment, dtype: object \n",
            "\n",
            "Type of Comment 1 :\n",
            "51                      5 star\n",
            "52    5 Star review for the AA\n",
            "53                   5 Star!!!\n",
            "54                     5 stars\n",
            "55                     5 Stars\n",
            "Name: comment, dtype: object \n",
            "\n",
            "Type of Comment 2 :\n",
            "0    ... 3 of them and one of the item is bad quali...\n",
            "1    ... always the less expensive way to go for pr...\n",
            "2    ... are not Duracell but for the price i am ha...\n",
            "3    ... as well as name brand batteries at a much ...\n",
            "4    ... batteries are very long lasting the price ...\n",
            "Name: comment, dtype: object \n",
            "\n"
          ]
        },
        {
          "output_type": "stream",
          "name": "stderr",
          "text": [
            "/usr/local/lib/python3.9/dist-packages/sklearn/cluster/_kmeans.py:870: FutureWarning: The default value of `n_init` will change from 10 to 'auto' in 1.4. Set the value of `n_init` explicitly to suppress the warning\n",
            "  warnings.warn(\n"
          ]
        }
      ]
    }
  ]
}